{
 "cells": [
  {
   "cell_type": "code",
   "execution_count": 1,
   "metadata": {
    "colab": {
     "base_uri": "https://localhost:8080/",
     "height": 1000,
     "referenced_widgets": [
      "f52411d706e14abcbf05fc9bc9fb7869",
      "939a246b80da4d4082e3b93dc9ac3c40",
      "57fad7ecb0f94d78a716b9533023bb62",
      "5ebd4bfad9a840f48a6569ecc6cc4316",
      "6b4554fbab5641c882e3b695a057ec40",
      "32b822ac0c2145349c620be9555b20fa",
      "d92ebacc3cbf45b0ab7084c12d911cd6",
      "edf1e176c78f47d88f84b996c255c148",
      "942328fc856e4d748a2acdfe4e66c5c2",
      "e0989b6b4c5c481795bf7e56f889dc99",
      "4f496178bbbf419d927a8c55ea6145cd",
      "63d95c73002f46f39533a255846b5dd4",
      "ee060784d39446d08ed9afe656dc4d1b",
      "a1150ada70f84dc486b9583231969c39",
      "cd34794f6a4043f0807fca074e01585d",
      "2ef5c21133424a1a945af4987391bf5c",
      "e91f0d511d2840ab959a81a886f68b0c",
      "f38eb7eaf3e94c698434a6d072f034b1",
      "465f2b40b70548bb9a966861f95915aa",
      "505465765bd244f684a3521d320c20f1",
      "7603ee7675394a7bb57a56bc7bda84a1",
      "de062132b34446a190e10e794e0f65c3",
      "14fbf93318a44d59a67baf5339c90e44",
      "dce090ab69404c66b1f4f58bffd25a50",
      "aa3dccd6e4744c1da2eff07e326fbc3b",
      "74bab4836e9847b6b48cc65595041bde",
      "24fd78a5c0c844e08eb2c39d8ad1f9cb",
      "04063acc031344f7adc23d2d206947f8",
      "dbd6e99eccf5487fb950918e1dc06af7",
      "722e90fdf0d34e0b96d00397ec32166d",
      "db0565002fc14bcb9a1ced30b64d7226",
      "c20cf2887a0847f18a467c106b2aa92e",
      "45a07bcb9c474349ac4d71c77dae9bf7",
      "a08c2feaa1254a2f8594c52349bb06d3",
      "3f817f7b787d4fbda3135743de3cf935",
      "228fecea2b194ec5a0924e6eb64afe1a",
      "d2b385003372474ab11802f55ab394b8",
      "e39233ecaad64bb2b4c28f09f1774230",
      "601639778f67453abc55cd8515ee81e6",
      "aeed42d8f3e246c9ae234973f25a0ba4",
      "9ba508c4a3264891a2503a9cca0fedd1",
      "ab0d39580e4b4d38a3fc6ffe46b5950d",
      "d204c230fff542629c7803806bf0b7b4",
      "791a569cce8f4ecd8ee6ce32eb35441a",
      "312b9bb007cb46829ab0c82d65616ee3",
      "fb6b7d25541f4d978a1186148a8bbb8b",
      "c4ccf94e0b754392af44469baaef2be3",
      "90a4b32b1800496a859d3c7a65c53380",
      "dbe5f60c7aa348beb3a7874ba42dc0c3",
      "a440ec4638ae4c97bf3ae40844e656b7",
      "b97480324afa4881a1f87d33587e4a78",
      "a07caaaad8664629997dca67fb71dfb2",
      "3157250d73494e358525d789bd127eda",
      "8e24228815b341caab88629834aacc67",
      "46a875155ee6442fa74f2e604d49e756",
      "6063026079c44c40bdef8000ad494af2",
      "27f4d7897e86408c89bc3d5854068f86",
      "16740388618b4727b13b233da5e7f051",
      "5cf570413bd44c319a1403760d5815a7",
      "c32877a5d43e4af5a2fba14ca35d45d9",
      "3b93f6ce6127467c8ebb8a1522ff0fb7",
      "ae915278b0d64c849c951b761c0705be",
      "a125c92b12444e4ba4ba9e95363b32f6",
      "6329984bac454145b7d8ad62d30503a9",
      "57e28cc56f1b4389972678cad1a4e7f7",
      "9b15df4e9e3e47cc836e88705403bb3a",
      "7f427309db0c4c9cb92f3b1d2ac88b0c",
      "8ae3c9dd874d4d32815fa62fbc6f0a50",
      "98dca74baa614b988c113cfd9bdcccb5",
      "b97abf613bd24838a7b51f47ba30f2a2",
      "047e0478f30c4e57ac5b73fe94264e1b",
      "e25cc34d103f4cc08d89b6591f4f7bfd",
      "0c4d8f398dc946e592b41987b34a79ad",
      "208d6c01c0a941e2853c33dfdd84cc84",
      "950f428dc265480082a4a2a328a7378a",
      "0c2d5aca8fe84e04a222727690be8c1a",
      "1e25038f4eb14125bbcb5fd9d3a7ee90",
      "53dc499432f04c76b216fb61e0a55622",
      "a435284e548d4022b597ba1bf6078491",
      "ada0f3597abe4bf999ae3c64406ff7ac",
      "78aa289ce5e14cf9b4b487f967e8603d",
      "0f9d6e201b4d43509488ae7dbd2b1410",
      "d7ce2376caa641b993a6eec9792fd9d5",
      "e28b417634ef40fe9593ba1c2763804e",
      "817ef9b60e004bc3ab82d0728a662fc1",
      "09f0412febab4c9f924c5a40f3db9eec",
      "2908a7068ee947f786dc1b0f4215fa8b",
      "43d8867a88344ccda1e6cde7cf3222e5",
      "da67368914244ee58d99bdb61a47a71e",
      "350df3fdbbf345a59039101be38c330c",
      "2ff35e996d8440c9a4fd23996c2a87d7",
      "8f6a843b5cab498081b412c3db43e631",
      "093ed81ec14448a6a55a7aef7915284d",
      "d0d0d812ad2a460386e1832dc3e9b5d2",
      "37560daa00d843d287a5c7bf8b04c616",
      "745e89f92eb642039c7566f823574177",
      "8ded0fee448d48bd82e63781cd3c3819",
      "e4649d5bae23422e89219ce0238913cb",
      "f87a48f7d73a491ab979edadfe598093",
      "43d729cdd5f041db83828d0e06362f7d",
      "4e206ab85c0e4e148d651de68f6752df",
      "0f1e3bc3cb6e4733a293eeb33ae53077",
      "b1661a15674c420cbf66a67288837320",
      "763c390e50a74dc29fbd3a0a43ff594b",
      "0f7e8c4b0dc345b1a2c20836082cbfcd",
      "fbbdb54bcad448ba9fc57d5dfb8f7b78",
      "fc1377128491496a85a4d161c934ad30",
      "2046d9b4d3414df09ba3fea15afe285b",
      "f6584e923f0b4edcb51ebf5c6c63b11a",
      "e9d230dcd5934bd69db031a33ddaa58a",
      "04900276dff14e8582f814e8cf3d1345",
      "60a653ef1e1c42dd9153e3f8e222d76f",
      "2804a70b95d24a4abe5562af204cfc43",
      "f059c92f587f4ad7b11272f9821ecd6e",
      "7a487df567c946408fd2a6863fe27007",
      "c6ed9e3fb3034febaf5700f740d3e296",
      "4c2f0d9f790e4e2f9b69b4de5fe66589",
      "e65251588cb4490c9030bcdea32e6de6",
      "76b7fc94ea164689b41aa671277e2035",
      "64a434afe8464f8bbe483a3a70ac693a",
      "693d3613a1ca4ebfaf83f4ee243f018e",
      "fc75fe455dee431a816b8fbdfe21f793",
      "278109f2b810439994f915ac89d34d81",
      "1a6efe227bbf489db2139d487e3d625f",
      "da4b5a62ba4d4bc6ba0c40947c3d7cf9",
      "2d7f1400c9614dbaa6fe1f13a297a61a",
      "1f69eb735a3a469a8e9b9b3637a5be78",
      "3e9289d4df8646cab383745433ef3a60",
      "1313cd2cd0d0467bb8a17ddc77a03724",
      "7b86a4095a874d8e953ce3c689d8f7d9",
      "a7cd02c3da6d41c5b619746ffce6ce60",
      "9658d8775c4a4bfd902d290bcee21f88",
      "4f473734375e4f0cb2a601155237675a",
      "3b6ebfe629b049839652d79138ce30bb",
      "d4e914f1e0ef4faeba1c4069144ee56d",
      "fbbd6c8a12b540549c74d2d499cb3acb",
      "870d217ab0cb4aacbe867b6e66c0482c",
      "f467bb7259a7473eb03cae9767d0dde1",
      "366f1ba9a2ee46d49b5e524b81f9b38b",
      "565af4383b1c4899bc14ae06bf209b07",
      "001711c427364b8eba0259b471379b66",
      "4dd5d49d11654a87be80299dc7ee1c68",
      "f31bbae85bb04b4d8f03db0949996cf5",
      "382c42b0d3944c39b0f90e8e3ce1fa5c",
      "ab62346d46ec4c73ad146e1e493f4f18",
      "12a06303a0674d03a4a76104b030eae1",
      "3bc170d2459640b4b099d5188d1d6797",
      "9c254bc71c2a4c2e92721eaf1e6d370f",
      "7b01d71f44e14fcb94c4a7917f463c5d",
      "e3a1e064997f47c3aa227662afec9efe",
      "bbf913869fc749cbad5af9af1cc9eb7e",
      "5154aea4fb244225ab50121090f66fe2",
      "71a1f77a480b454b9e0b5f7659c33405",
      "5fd70769c34c4f0b922efd0ed45dab2e",
      "a666ba761e4743e6b43fb57f54e87c46",
      "682180ca5c26472399a5e0f1b4039e78",
      "b9d6a704c2484745b18810392a20173b",
      "1c26fa8c67bc41e8966015b482b6fd48",
      "0fa19383deed4d1cbe2248c57c159f81",
      "62901f3869cf455fb8bd37e9ac50c647",
      "ede24d0e1aa041e6b573c5b2a026951b",
      "567df3e946b74db3907da397ab55004e",
      "073bc8068ccd4858adea1941e5d532c8",
      "2d00bd2b0f874d21a3bb1275e656d9dd",
      "fd3e971ca25b411b883ad735fb3d70e3",
      "3f5a80fb427e45e084dbfab145750fc7",
      "fa112361b0734dcaa342a873f3f48200",
      "35cc9d2c35bf454a9eef740da3b0cf56",
      "7afb3c66c92540b8a25925904580a20f",
      "9b2978b277b346feacf9ce6d8e1567f9",
      "35977def4a79420da6cdcc2509c028cf",
      "dfb891057a804204bdbdd17dadc87caf",
      "94232e1d14824a5391d9300d55ae72da",
      "26f6ba7d8b604c759cb885ec98599ef3",
      "cf126d9fbc5d4282814f2a1b91f06601",
      "613b3f54700347508b77ba78137419d5",
      "75369e4736124aeeb1bc2151bbbc04a9",
      "c83a1562c8be4c27b72939b9f27ae56b",
      "59caeacfb5a64bef8bcf4594841868cb",
      "3a5e77a6ee224cfbba07138e64d2c7c9",
      "60d760a9b36a4dd4b44e8cdec71079f5",
      "ef642775aa1a473cb1c8eb72f0e42504",
      "71d2b26b5ab146c4a436143ec5af6b8b",
      "8cf5e781d57d4640adafbf77cc5771f0",
      "f9b5b882ebfd4d02a95548cfbf2e60e6",
      "2ddcce37482c4f769726dd4935a2c1d4",
      "6906a3d2f8f343bf807e254f82ebad53",
      "ef4a8d5bba8648c1aa3663cb5454af84",
      "ea3641264c9e4e2eb917167de374574a",
      "d9f8786a9b314d7c8e1895babd4c8695",
      "8ee89c6abe5e4e9eab9d47f8173f824d",
      "20d21965d66d4189b45b560b62affc9d",
      "7ee958466abf44e380d8de26adbab707",
      "b7ef8d7d98534d179b2234f026c6bc67",
      "80d6dc082f644bc4ae00b2c4d8611eb3",
      "e90c51412b2246329efa2cd09dd91000",
      "5582622a53d9435088aa66c074b616ad",
      "a437d8eb1c244928980ade4790c78702"
     ]
    },
    "id": "El-2fvfR0l2I",
    "outputId": "092a38d3-7840-42f6-d9a9-041ee8bf54bf"
   },
   "outputs": [
    {
     "name": "stdout",
     "output_type": "stream",
     "text": [
      "Mounted at /content/drive\n",
      "Requirement already satisfied: transformers in /usr/local/lib/python3.12/dist-packages (4.56.0)\n",
      "Requirement already satisfied: filelock in /usr/local/lib/python3.12/dist-packages (from transformers) (3.19.1)\n",
      "Requirement already satisfied: huggingface-hub<1.0,>=0.34.0 in /usr/local/lib/python3.12/dist-packages (from transformers) (0.34.4)\n",
      "Requirement already satisfied: numpy>=1.17 in /usr/local/lib/python3.12/dist-packages (from transformers) (2.0.2)\n",
      "Requirement already satisfied: packaging>=20.0 in /usr/local/lib/python3.12/dist-packages (from transformers) (25.0)\n",
      "Requirement already satisfied: pyyaml>=5.1 in /usr/local/lib/python3.12/dist-packages (from transformers) (6.0.2)\n",
      "Requirement already satisfied: regex!=2019.12.17 in /usr/local/lib/python3.12/dist-packages (from transformers) (2024.11.6)\n",
      "Requirement already satisfied: requests in /usr/local/lib/python3.12/dist-packages (from transformers) (2.32.4)\n",
      "Requirement already satisfied: tokenizers<=0.23.0,>=0.22.0 in /usr/local/lib/python3.12/dist-packages (from transformers) (0.22.0)\n",
      "Requirement already satisfied: safetensors>=0.4.3 in /usr/local/lib/python3.12/dist-packages (from transformers) (0.6.2)\n",
      "Requirement already satisfied: tqdm>=4.27 in /usr/local/lib/python3.12/dist-packages (from transformers) (4.67.1)\n",
      "Requirement already satisfied: fsspec>=2023.5.0 in /usr/local/lib/python3.12/dist-packages (from huggingface-hub<1.0,>=0.34.0->transformers) (2025.3.0)\n",
      "Requirement already satisfied: typing-extensions>=3.7.4.3 in /usr/local/lib/python3.12/dist-packages (from huggingface-hub<1.0,>=0.34.0->transformers) (4.15.0)\n",
      "Requirement already satisfied: hf-xet<2.0.0,>=1.1.3 in /usr/local/lib/python3.12/dist-packages (from huggingface-hub<1.0,>=0.34.0->transformers) (1.1.9)\n",
      "Requirement already satisfied: charset_normalizer<4,>=2 in /usr/local/lib/python3.12/dist-packages (from requests->transformers) (3.4.3)\n",
      "Requirement already satisfied: idna<4,>=2.5 in /usr/local/lib/python3.12/dist-packages (from requests->transformers) (3.10)\n",
      "Requirement already satisfied: urllib3<3,>=1.21.1 in /usr/local/lib/python3.12/dist-packages (from requests->transformers) (2.5.0)\n",
      "Requirement already satisfied: certifi>=2017.4.17 in /usr/local/lib/python3.12/dist-packages (from requests->transformers) (2025.8.3)\n",
      "Collecting pytorch-lightning\n",
      "  Downloading pytorch_lightning-2.5.5-py3-none-any.whl.metadata (20 kB)\n",
      "Requirement already satisfied: torch>=2.1.0 in /usr/local/lib/python3.12/dist-packages (from pytorch-lightning) (2.8.0+cu126)\n",
      "Requirement already satisfied: tqdm>=4.57.0 in /usr/local/lib/python3.12/dist-packages (from pytorch-lightning) (4.67.1)\n",
      "Requirement already satisfied: PyYAML>5.4 in /usr/local/lib/python3.12/dist-packages (from pytorch-lightning) (6.0.2)\n",
      "Requirement already satisfied: fsspec>=2022.5.0 in /usr/local/lib/python3.12/dist-packages (from fsspec[http]>=2022.5.0->pytorch-lightning) (2025.3.0)\n",
      "Collecting torchmetrics>0.7.0 (from pytorch-lightning)\n",
      "  Downloading torchmetrics-1.8.2-py3-none-any.whl.metadata (22 kB)\n",
      "Requirement already satisfied: packaging>=20.0 in /usr/local/lib/python3.12/dist-packages (from pytorch-lightning) (25.0)\n",
      "Requirement already satisfied: typing-extensions>4.5.0 in /usr/local/lib/python3.12/dist-packages (from pytorch-lightning) (4.15.0)\n",
      "Collecting lightning-utilities>=0.10.0 (from pytorch-lightning)\n",
      "  Downloading lightning_utilities-0.15.2-py3-none-any.whl.metadata (5.7 kB)\n",
      "Requirement already satisfied: aiohttp!=4.0.0a0,!=4.0.0a1 in /usr/local/lib/python3.12/dist-packages (from fsspec[http]>=2022.5.0->pytorch-lightning) (3.12.15)\n",
      "Requirement already satisfied: setuptools in /usr/local/lib/python3.12/dist-packages (from lightning-utilities>=0.10.0->pytorch-lightning) (75.2.0)\n",
      "Requirement already satisfied: filelock in /usr/local/lib/python3.12/dist-packages (from torch>=2.1.0->pytorch-lightning) (3.19.1)\n",
      "Requirement already satisfied: sympy>=1.13.3 in /usr/local/lib/python3.12/dist-packages (from torch>=2.1.0->pytorch-lightning) (1.13.3)\n",
      "Requirement already satisfied: networkx in /usr/local/lib/python3.12/dist-packages (from torch>=2.1.0->pytorch-lightning) (3.5)\n",
      "Requirement already satisfied: jinja2 in /usr/local/lib/python3.12/dist-packages (from torch>=2.1.0->pytorch-lightning) (3.1.6)\n",
      "Requirement already satisfied: nvidia-cuda-nvrtc-cu12==12.6.77 in /usr/local/lib/python3.12/dist-packages (from torch>=2.1.0->pytorch-lightning) (12.6.77)\n",
      "Requirement already satisfied: nvidia-cuda-runtime-cu12==12.6.77 in /usr/local/lib/python3.12/dist-packages (from torch>=2.1.0->pytorch-lightning) (12.6.77)\n",
      "Requirement already satisfied: nvidia-cuda-cupti-cu12==12.6.80 in /usr/local/lib/python3.12/dist-packages (from torch>=2.1.0->pytorch-lightning) (12.6.80)\n",
      "Requirement already satisfied: nvidia-cudnn-cu12==9.10.2.21 in /usr/local/lib/python3.12/dist-packages (from torch>=2.1.0->pytorch-lightning) (9.10.2.21)\n",
      "Requirement already satisfied: nvidia-cublas-cu12==12.6.4.1 in /usr/local/lib/python3.12/dist-packages (from torch>=2.1.0->pytorch-lightning) (12.6.4.1)\n",
      "Requirement already satisfied: nvidia-cufft-cu12==11.3.0.4 in /usr/local/lib/python3.12/dist-packages (from torch>=2.1.0->pytorch-lightning) (11.3.0.4)\n",
      "Requirement already satisfied: nvidia-curand-cu12==10.3.7.77 in /usr/local/lib/python3.12/dist-packages (from torch>=2.1.0->pytorch-lightning) (10.3.7.77)\n",
      "Requirement already satisfied: nvidia-cusolver-cu12==11.7.1.2 in /usr/local/lib/python3.12/dist-packages (from torch>=2.1.0->pytorch-lightning) (11.7.1.2)\n",
      "Requirement already satisfied: nvidia-cusparse-cu12==12.5.4.2 in /usr/local/lib/python3.12/dist-packages (from torch>=2.1.0->pytorch-lightning) (12.5.4.2)\n",
      "Requirement already satisfied: nvidia-cusparselt-cu12==0.7.1 in /usr/local/lib/python3.12/dist-packages (from torch>=2.1.0->pytorch-lightning) (0.7.1)\n",
      "Requirement already satisfied: nvidia-nccl-cu12==2.27.3 in /usr/local/lib/python3.12/dist-packages (from torch>=2.1.0->pytorch-lightning) (2.27.3)\n",
      "Requirement already satisfied: nvidia-nvtx-cu12==12.6.77 in /usr/local/lib/python3.12/dist-packages (from torch>=2.1.0->pytorch-lightning) (12.6.77)\n",
      "Requirement already satisfied: nvidia-nvjitlink-cu12==12.6.85 in /usr/local/lib/python3.12/dist-packages (from torch>=2.1.0->pytorch-lightning) (12.6.85)\n",
      "Requirement already satisfied: nvidia-cufile-cu12==1.11.1.6 in /usr/local/lib/python3.12/dist-packages (from torch>=2.1.0->pytorch-lightning) (1.11.1.6)\n",
      "Requirement already satisfied: triton==3.4.0 in /usr/local/lib/python3.12/dist-packages (from torch>=2.1.0->pytorch-lightning) (3.4.0)\n",
      "Requirement already satisfied: numpy>1.20.0 in /usr/local/lib/python3.12/dist-packages (from torchmetrics>0.7.0->pytorch-lightning) (2.0.2)\n",
      "Requirement already satisfied: aiohappyeyeballs>=2.5.0 in /usr/local/lib/python3.12/dist-packages (from aiohttp!=4.0.0a0,!=4.0.0a1->fsspec[http]>=2022.5.0->pytorch-lightning) (2.6.1)\n",
      "Requirement already satisfied: aiosignal>=1.4.0 in /usr/local/lib/python3.12/dist-packages (from aiohttp!=4.0.0a0,!=4.0.0a1->fsspec[http]>=2022.5.0->pytorch-lightning) (1.4.0)\n",
      "Requirement already satisfied: attrs>=17.3.0 in /usr/local/lib/python3.12/dist-packages (from aiohttp!=4.0.0a0,!=4.0.0a1->fsspec[http]>=2022.5.0->pytorch-lightning) (25.3.0)\n",
      "Requirement already satisfied: frozenlist>=1.1.1 in /usr/local/lib/python3.12/dist-packages (from aiohttp!=4.0.0a0,!=4.0.0a1->fsspec[http]>=2022.5.0->pytorch-lightning) (1.7.0)\n",
      "Requirement already satisfied: multidict<7.0,>=4.5 in /usr/local/lib/python3.12/dist-packages (from aiohttp!=4.0.0a0,!=4.0.0a1->fsspec[http]>=2022.5.0->pytorch-lightning) (6.6.4)\n",
      "Requirement already satisfied: propcache>=0.2.0 in /usr/local/lib/python3.12/dist-packages (from aiohttp!=4.0.0a0,!=4.0.0a1->fsspec[http]>=2022.5.0->pytorch-lightning) (0.3.2)\n",
      "Requirement already satisfied: yarl<2.0,>=1.17.0 in /usr/local/lib/python3.12/dist-packages (from aiohttp!=4.0.0a0,!=4.0.0a1->fsspec[http]>=2022.5.0->pytorch-lightning) (1.20.1)\n",
      "Requirement already satisfied: mpmath<1.4,>=1.1.0 in /usr/local/lib/python3.12/dist-packages (from sympy>=1.13.3->torch>=2.1.0->pytorch-lightning) (1.3.0)\n",
      "Requirement already satisfied: MarkupSafe>=2.0 in /usr/local/lib/python3.12/dist-packages (from jinja2->torch>=2.1.0->pytorch-lightning) (3.0.2)\n",
      "Requirement already satisfied: idna>=2.0 in /usr/local/lib/python3.12/dist-packages (from yarl<2.0,>=1.17.0->aiohttp!=4.0.0a0,!=4.0.0a1->fsspec[http]>=2022.5.0->pytorch-lightning) (3.10)\n",
      "Downloading pytorch_lightning-2.5.5-py3-none-any.whl (832 kB)\n",
      "\u001b[2K   \u001b[90m━━━━━━━━━━━━━━━━━━━━━━━━━━━━━━━━━━━━━━━━\u001b[0m \u001b[32m832.4/832.4 kB\u001b[0m \u001b[31m27.4 MB/s\u001b[0m eta \u001b[36m0:00:00\u001b[0m\n",
      "\u001b[?25hDownloading lightning_utilities-0.15.2-py3-none-any.whl (29 kB)\n",
      "Downloading torchmetrics-1.8.2-py3-none-any.whl (983 kB)\n",
      "\u001b[2K   \u001b[90m━━━━━━━━━━━━━━━━━━━━━━━━━━━━━━━━━━━━━━━━\u001b[0m \u001b[32m983.2/983.2 kB\u001b[0m \u001b[31m65.8 MB/s\u001b[0m eta \u001b[36m0:00:00\u001b[0m\n",
      "\u001b[?25hInstalling collected packages: lightning-utilities, torchmetrics, pytorch-lightning\n",
      "Successfully installed lightning-utilities-0.15.2 pytorch-lightning-2.5.5 torchmetrics-1.8.2\n"
     ]
    },
    {
     "name": "stderr",
     "output_type": "stream",
     "text": [
      "/usr/local/lib/python3.12/dist-packages/huggingface_hub/utils/_auth.py:94: UserWarning: \n",
      "The secret `HF_TOKEN` does not exist in your Colab secrets.\n",
      "To authenticate with the Hugging Face Hub, create a token in your settings tab (https://huggingface.co/settings/tokens), set it as secret in your Google Colab and restart your session.\n",
      "You will be able to reuse this secret in all of your notebooks.\n",
      "Please note that authentication is recommended but still optional to access public models or datasets.\n",
      "  warnings.warn(\n"
     ]
    },
    {
     "data": {
      "application/vnd.jupyter.widget-view+json": {
       "model_id": "f52411d706e14abcbf05fc9bc9fb7869",
       "version_major": 2,
       "version_minor": 0
      },
      "text/plain": [
       "tokenizer_config.json:   0%|          | 0.00/82.0 [00:00<?, ?B/s]"
      ]
     },
     "metadata": {},
     "output_type": "display_data"
    },
    {
     "data": {
      "application/vnd.jupyter.widget-view+json": {
       "model_id": "63d95c73002f46f39533a255846b5dd4",
       "version_major": 2,
       "version_minor": 0
      },
      "text/plain": [
       "spiece.model:   0%|          | 0.00/4.31M [00:00<?, ?B/s]"
      ]
     },
     "metadata": {},
     "output_type": "display_data"
    },
    {
     "data": {
      "application/vnd.jupyter.widget-view+json": {
       "model_id": "14fbf93318a44d59a67baf5339c90e44",
       "version_major": 2,
       "version_minor": 0
      },
      "text/plain": [
       "special_tokens_map.json:   0%|          | 0.00/99.0 [00:00<?, ?B/s]"
      ]
     },
     "metadata": {},
     "output_type": "display_data"
    },
    {
     "data": {
      "application/vnd.jupyter.widget-view+json": {
       "model_id": "a08c2feaa1254a2f8594c52349bb06d3",
       "version_major": 2,
       "version_minor": 0
      },
      "text/plain": [
       "config.json:   0%|          | 0.00/553 [00:00<?, ?B/s]"
      ]
     },
     "metadata": {},
     "output_type": "display_data"
    },
    {
     "name": "stderr",
     "output_type": "stream",
     "text": [
      "The tokenizer class you load from this checkpoint is not the same type as the class this function is called from. It may result in unexpected tokenization. \n",
      "The tokenizer class you load from this checkpoint is 'T5Tokenizer'. \n",
      "The class this function is called from is 'MT5Tokenizer'.\n",
      "You are using the default legacy behaviour of the <class 'transformers.models.mt5.tokenization_mt5.MT5Tokenizer'>. This is expected, and simply means that the `legacy` (previous) behavior will be used so nothing changes for you. If you want to use the new behaviour, set `legacy=False`. This should only be set if you understand what it means, and thoroughly read the reason why this was added as explained in https://github.com/huggingface/transformers/pull/24565\n"
     ]
    },
    {
     "data": {
      "application/vnd.jupyter.widget-view+json": {
       "model_id": "312b9bb007cb46829ab0c82d65616ee3",
       "version_major": 2,
       "version_minor": 0
      },
      "text/plain": [
       "pytorch_model.bin:   0%|          | 0.00/1.20G [00:00<?, ?B/s]"
      ]
     },
     "metadata": {},
     "output_type": "display_data"
    },
    {
     "data": {
      "application/vnd.jupyter.widget-view+json": {
       "model_id": "6063026079c44c40bdef8000ad494af2",
       "version_major": 2,
       "version_minor": 0
      },
      "text/plain": [
       "model.safetensors:   0%|          | 0.00/1.20G [00:00<?, ?B/s]"
      ]
     },
     "metadata": {},
     "output_type": "display_data"
    },
    {
     "data": {
      "application/vnd.jupyter.widget-view+json": {
       "model_id": "7f427309db0c4c9cb92f3b1d2ac88b0c",
       "version_major": 2,
       "version_minor": 0
      },
      "text/plain": [
       "generation_config.json:   0%|          | 0.00/147 [00:00<?, ?B/s]"
      ]
     },
     "metadata": {},
     "output_type": "display_data"
    },
    {
     "name": "stderr",
     "output_type": "stream",
     "text": [
      "INFO:pytorch_lightning.utilities.rank_zero:💡 Tip: For seamless cloud uploads and versioning, try installing [litmodels](https://pypi.org/project/litmodels/) to enable LitModelCheckpoint, which syncs automatically with the Lightning model registry.\n",
      "INFO:pytorch_lightning.utilities.rank_zero:GPU available: True (cuda), used: True\n",
      "INFO:pytorch_lightning.utilities.rank_zero:TPU available: False, using: 0 TPU cores\n",
      "INFO:pytorch_lightning.utilities.rank_zero:HPU available: False, using: 0 HPUs\n",
      "INFO:pytorch_lightning.accelerators.cuda:LOCAL_RANK: 0 - CUDA_VISIBLE_DEVICES: [0]\n",
      "INFO:pytorch_lightning.callbacks.model_summary:\n",
      "  | Name  | Type                        | Params | Mode\n",
      "-------------------------------------------------------------\n",
      "0 | model | MT5ForConditionalGeneration | 300 M  | eval\n",
      "-------------------------------------------------------------\n",
      "300 M     Trainable params\n",
      "0         Non-trainable params\n",
      "300 M     Total params\n",
      "1,200.707 Total estimated model params size (MB)\n",
      "0         Modules in train mode\n",
      "381       Modules in eval mode\n"
     ]
    },
    {
     "data": {
      "application/vnd.jupyter.widget-view+json": {
       "model_id": "53dc499432f04c76b216fb61e0a55622",
       "version_major": 2,
       "version_minor": 0
      },
      "text/plain": [
       "Sanity Checking: |          | 0/? [00:00<?, ?it/s]"
      ]
     },
     "metadata": {},
     "output_type": "display_data"
    },
    {
     "name": "stderr",
     "output_type": "stream",
     "text": [
      "/usr/local/lib/python3.12/dist-packages/pytorch_lightning/loops/fit_loop.py:527: Found 381 module(s) in eval mode at the start of training. This may lead to unexpected behavior during training. If this is intentional, you can ignore this warning.\n"
     ]
    },
    {
     "data": {
      "application/vnd.jupyter.widget-view+json": {
       "model_id": "da67368914244ee58d99bdb61a47a71e",
       "version_major": 2,
       "version_minor": 0
      },
      "text/plain": [
       "Training: |          | 0/? [00:00<?, ?it/s]"
      ]
     },
     "metadata": {},
     "output_type": "display_data"
    },
    {
     "data": {
      "application/vnd.jupyter.widget-view+json": {
       "model_id": "43d729cdd5f041db83828d0e06362f7d",
       "version_major": 2,
       "version_minor": 0
      },
      "text/plain": [
       "Validation: |          | 0/? [00:00<?, ?it/s]"
      ]
     },
     "metadata": {},
     "output_type": "display_data"
    },
    {
     "data": {
      "application/vnd.jupyter.widget-view+json": {
       "model_id": "04900276dff14e8582f814e8cf3d1345",
       "version_major": 2,
       "version_minor": 0
      },
      "text/plain": [
       "Validation: |          | 0/? [00:00<?, ?it/s]"
      ]
     },
     "metadata": {},
     "output_type": "display_data"
    },
    {
     "data": {
      "application/vnd.jupyter.widget-view+json": {
       "model_id": "fc75fe455dee431a816b8fbdfe21f793",
       "version_major": 2,
       "version_minor": 0
      },
      "text/plain": [
       "Validation: |          | 0/? [00:00<?, ?it/s]"
      ]
     },
     "metadata": {},
     "output_type": "display_data"
    },
    {
     "data": {
      "application/vnd.jupyter.widget-view+json": {
       "model_id": "4f473734375e4f0cb2a601155237675a",
       "version_major": 2,
       "version_minor": 0
      },
      "text/plain": [
       "Validation: |          | 0/? [00:00<?, ?it/s]"
      ]
     },
     "metadata": {},
     "output_type": "display_data"
    },
    {
     "data": {
      "application/vnd.jupyter.widget-view+json": {
       "model_id": "382c42b0d3944c39b0f90e8e3ce1fa5c",
       "version_major": 2,
       "version_minor": 0
      },
      "text/plain": [
       "Validation: |          | 0/? [00:00<?, ?it/s]"
      ]
     },
     "metadata": {},
     "output_type": "display_data"
    },
    {
     "data": {
      "application/vnd.jupyter.widget-view+json": {
       "model_id": "a666ba761e4743e6b43fb57f54e87c46",
       "version_major": 2,
       "version_minor": 0
      },
      "text/plain": [
       "Validation: |          | 0/? [00:00<?, ?it/s]"
      ]
     },
     "metadata": {},
     "output_type": "display_data"
    },
    {
     "data": {
      "application/vnd.jupyter.widget-view+json": {
       "model_id": "3f5a80fb427e45e084dbfab145750fc7",
       "version_major": 2,
       "version_minor": 0
      },
      "text/plain": [
       "Validation: |          | 0/? [00:00<?, ?it/s]"
      ]
     },
     "metadata": {},
     "output_type": "display_data"
    },
    {
     "data": {
      "application/vnd.jupyter.widget-view+json": {
       "model_id": "75369e4736124aeeb1bc2151bbbc04a9",
       "version_major": 2,
       "version_minor": 0
      },
      "text/plain": [
       "Validation: |          | 0/? [00:00<?, ?it/s]"
      ]
     },
     "metadata": {},
     "output_type": "display_data"
    },
    {
     "name": "stderr",
     "output_type": "stream",
     "text": [
      "INFO:pytorch_lightning.utilities.rank_zero:`Trainer.fit` stopped: `max_epochs=8` reached.\n",
      "INFO:pytorch_lightning.accelerators.cuda:LOCAL_RANK: 0 - CUDA_VISIBLE_DEVICES: [0]\n"
     ]
    },
    {
     "data": {
      "application/vnd.jupyter.widget-view+json": {
       "model_id": "ef4a8d5bba8648c1aa3663cb5454af84",
       "version_major": 2,
       "version_minor": 0
      },
      "text/plain": [
       "Validation: |          | 0/? [00:00<?, ?it/s]"
      ]
     },
     "metadata": {},
     "output_type": "display_data"
    },
    {
     "data": {
      "text/html": [
       "<pre style=\"white-space:pre;overflow-x:auto;line-height:normal;font-family:Menlo,'DejaVu Sans Mono',consolas,'Courier New',monospace\">┏━━━━━━━━━━━━━━━━━━━━━━━━━━━┳━━━━━━━━━━━━━━━━━━━━━━━━━━━┓\n",
       "┃<span style=\"font-weight: bold\">      Validate metric      </span>┃<span style=\"font-weight: bold\">       DataLoader 0        </span>┃\n",
       "┡━━━━━━━━━━━━━━━━━━━━━━━━━━━╇━━━━━━━━━━━━━━━━━━━━━━━━━━━┩\n",
       "│<span style=\"color: #008080; text-decoration-color: #008080\">         val_loss          </span>│<span style=\"color: #800080; text-decoration-color: #800080\">     1.287343978881836     </span>│\n",
       "└───────────────────────────┴───────────────────────────┘\n",
       "</pre>\n"
      ],
      "text/plain": [
       "┏━━━━━━━━━━━━━━━━━━━━━━━━━━━┳━━━━━━━━━━━━━━━━━━━━━━━━━━━┓\n",
       "┃\u001b[1m \u001b[0m\u001b[1m     Validate metric     \u001b[0m\u001b[1m \u001b[0m┃\u001b[1m \u001b[0m\u001b[1m      DataLoader 0       \u001b[0m\u001b[1m \u001b[0m┃\n",
       "┡━━━━━━━━━━━━━━━━━━━━━━━━━━━╇━━━━━━━━━━━━━━━━━━━━━━━━━━━┩\n",
       "│\u001b[36m \u001b[0m\u001b[36m        val_loss         \u001b[0m\u001b[36m \u001b[0m│\u001b[35m \u001b[0m\u001b[35m    1.287343978881836    \u001b[0m\u001b[35m \u001b[0m│\n",
       "└───────────────────────────┴───────────────────────────┘\n"
      ]
     },
     "metadata": {},
     "output_type": "display_data"
    },
    {
     "name": "stdout",
     "output_type": "stream",
     "text": [
      "Original Text:\n",
      " વડોદરા: વડોદરા શહેરમાં એક 19 વર્ષીય આશાસ્પદ ખેલાડીનું ડેંગ્યૂથી નિધન થયું છે. શહેરના આજવા રોડ ખાતે રહેતી 19 વર્ષીય સાક્ષી રાવલ (Sakshi Rawal)નું નિધન થયું છે. સાક્ષીએ વર્ષ 2019માં ઝારખંડ (Jharkhand) ખાતે યોજાયેલી જુડોની સુરાશ કોમ્પિટિશનમાં બ્રોન્ઝ મેડલ મેળવ્યો હતો. વડોદરા શહેર (Vadodara city)માં વકરેલા પાણીજન્ય રોગચાળાએ એક નેશનલ પ્લેયરનો ભોગ લીધો છે. નેશનલ પ્લેયર એવી સાક્ષીના નિધનથી પરિવારમાં શોક વ્યાપી ગયો છે. 19 વર્ષની ઉંમરે દીકરી ગુમાવતા પરિવારના સભ્યો ભાંગી પડ્યાં હતાં. અંતિમ સંસ્કાર વખતે હાજર તમામ લોકોની આંખમાં આંસુ જોવા મળ્યા હતા. પરિવારે આક્ષેપ લગાવ્યો હતો કે તંત્રના પાપે અમારે દીકરી ગુમાવવાનો વારો આવ્યો છે. ઉલ્લેખનીય છે કે વડોદરા શહેરમાં હાલ પાણીજન્ય રોગચાળાએ ભરડો લીધો છે. શહેરના અનેક વિસ્તારો રોગચાળાના ભરડવામાં આવી ગયા છે. શહેરમાં પાણીજન્ય રોગચાળાનો કહેર વડોદરા પાણીજન્ય રોગચાળાનો કહેર જોવા મળ્યો છે. છેલ્લા 15 દિવસમાં પાલિકાના ચોપડે ડેંગ્યૂના 83 અને ચિકનગુનિયાના 35 કેસ નોંધાયા છે. આ પહેલા પાણીજન્ય રોગચાળાના કારણે નાગરવાડામાં ત્રણ મહિલાનાં મોત થયા હતા, હવે નેશનલ પ્લેયરનું મોત નીપજ્યું છે. શહેરમાં તંત્રની બેદરકારીને કારણે આજે પણ અનેક વિસ્તારોમાં દુષિત પાણી આવી રહ્યું છે છે. જેના પગલે શહેરમાં રોગચાળો વકરી રહ્યો છે. ઉલ્લેખનીય છે કે વર્ષ વર્ષ 2019માં શહેરમાં ડેંગ્યૂના 1,247 અને ચિકનગુનિયાના 231 કેસ પાલિકાના ચોપડે નોંધાયા હતા હતા. જ્યારે 2021માં બે અઠવાડિયા પહેલા ડેંગ્યૂના 16 કેસ નોંધાયા હતા, હવે તેમાં સીધો જ 44 કેસનો વધારો થયો છે. આ પણ વાંચો: મહીસાગર: બીજેપી નેતા અને તેમના પત્નીની હત્યાનું કારણ અકબંધ, શું મોબાઇલમાંથી ખુલશે ભેદ?  આ વિસ્તારોમાં રોગચાળો વકર્યો વડોદરા શહેરના વાસણા ભાયલી રોડ, સેવાસી, ન્યુ સમા, છાણી, નવાયાર્ડ, વાડી, કારેલીબાગ, ચાર દરવાજા, મકરપુરા અને આજવા રોડ વિસ્તારોમાં રોગચાળો ખૂબ વકર્યો છે. આ પણ વાંચો: સુરત: CA યુવતીને ભગાડી જઈને તેના પિતા પાસે માંગી 10 લાખની ખંડણી, પોલીસે બંનેને ઝડપી પાડ્યાં વાદળછાયા વાતાવરણથી બીમારીના વાવર ઉલ્લેખીય છે કે છેલ્લા છેલ્લા 10 દિવસથી સતત વાદળછાયા વાતાવરણથી બીમારીનો વાવર વધ્યો છે. શહેરના દવાખાના દર્દીઓથી ઊભરાઈ રહ્યા છે. સરકારી હૉસ્પિટલમાં ઓપીડીમાં ભારે ધસારો જોવા મળી રહ્યો છે. ખાનગી દવાખાનામાં દર 10 દર્દીમાં 8 દર્દી વાયરલ ઇન્ફેકશનના અને 2 ડેંગ્યૂના સામે આવી રહ્યા છે.\n",
      "\n",
      "Generated Summary:\n",
      " <pad> વડોદરા શહેરમાં 19 વર્ષની ઉંમરે દીકરી ગુમાવતા પરિવારના સભ્યો ભાંગી પડ્યાં હતાં. અંતિમ સંસ્કાર વખતે હાજર તમામ લોકોની આંખમાં આંસુ જોવા મળ્યા હતા. પરિવારે આક્ષેપ લગાવ્યો હતો કે તંત્રની બેદરકારીને કારણે અમારો રોગચાળો વકરી રહ્યો છે. સાક્ષીએ વર્ષ 2019માં ઝારખંડ (Jharkhand) ખાતે યોજાયેલી જુડોની સુરાશ કોમ્પિટિશનમાં બ્રોન્ઝ મેડલ મેળવ્યો, નેશનલ પ્લે\n"
     ]
    }
   ],
   "source": [
    "# Mount Google Drive\n",
    "from google.colab import drive\n",
    "drive.mount('/content/drive')\n",
    "\n",
    "# File paths\n",
    "guj_train = \"/content/drive/MyDrive/Project_Glory/Guj_train.csv\"\n",
    "guj_test = \"/content/drive/MyDrive/Project_Glory/Guj_val_article.csv\"\n",
    "\n",
    "# Install dependencies\n",
    "!pip install transformers\n",
    "!pip install pytorch-lightning\n",
    "\n",
    "# Imports\n",
    "import pandas as pd\n",
    "import torch\n",
    "from torch.utils.data import Dataset, DataLoader\n",
    "from transformers import MT5Tokenizer, MT5ForConditionalGeneration\n",
    "import pytorch_lightning as pl\n",
    "from sklearn.model_selection import train_test_split\n",
    "\n",
    "# Set device\n",
    "device = torch.device(\"cuda\" if torch.cuda.is_available() else \"cpu\")\n",
    "\n",
    "# Load CSVs\n",
    "df_train = pd.read_csv(guj_train)\n",
    "df_test = pd.read_csv(guj_test)\n",
    "\n",
    "# Ensure Summary column exists in test set\n",
    "if 'Summary' not in df_test.columns:\n",
    "    df_test['Summary'] = \"\"\n",
    "\n",
    "# Clean training and test data\n",
    "df_train = df_train[[\"Summary\", \"Article\"]].dropna()\n",
    "df_train = df_train[df_train[\"Summary\"].str.strip() != \"\"]\n",
    "\n",
    "df_test = df_test[[\"Summary\", \"Article\"]].dropna()\n",
    "\n",
    "# Split train/val\n",
    "df_train, df_valid = train_test_split(df_train, test_size=0.1, random_state=42)\n",
    "\n",
    "# Load tokenizer\n",
    "MODEL_NAME = \"google/mt5-small\"\n",
    "tokenizer = MT5Tokenizer.from_pretrained(MODEL_NAME)\n",
    "tokenizer.pad_token = tokenizer.eos_token  # Important for mT5\n",
    "tokenizer.padding_side = \"right\"\n",
    "\n",
    "# Dataset\n",
    "class NewsSummaryDataset(Dataset):\n",
    "    def __init__(self, data, tokenizer, text_max_tokens_len=512, summary_max_tokens_len=75):\n",
    "        self.data = data.reset_index(drop=True)\n",
    "        self.tokenizer = tokenizer\n",
    "        self.text_max_tokens_len = text_max_tokens_len\n",
    "        self.summary_max_tokens_len = summary_max_tokens_len\n",
    "\n",
    "    def __len__(self):\n",
    "        return len(self.data)\n",
    "\n",
    "    def __getitem__(self, idx):\n",
    "        article = str(self.data.loc[idx, \"Article\"])\n",
    "        summary = str(self.data.loc[idx, \"Summary\"])\n",
    "        input_text = \"summarize: \" + article\n",
    "\n",
    "        input_encoding = self.tokenizer(\n",
    "            input_text,\n",
    "            max_length=self.text_max_tokens_len,\n",
    "            padding=\"max_length\",\n",
    "            truncation=True,\n",
    "            return_tensors=\"pt\"\n",
    "        )\n",
    "        target_encoding = self.tokenizer(\n",
    "            summary,\n",
    "            max_length=self.summary_max_tokens_len,\n",
    "            padding=\"max_length\",\n",
    "            truncation=True,\n",
    "            return_tensors=\"pt\"\n",
    "        )\n",
    "\n",
    "        labels = target_encoding.input_ids.squeeze()\n",
    "\n",
    "        # Ensure valid target\n",
    "        if all(token == tokenizer.pad_token_id for token in labels.tolist()):\n",
    "            labels[0] = tokenizer.eos_token_id\n",
    "        labels[labels == tokenizer.pad_token_id] = -100\n",
    "\n",
    "        return {\n",
    "            \"input_ids\": input_encoding.input_ids.squeeze(),\n",
    "            \"attention_mask\": input_encoding.attention_mask.squeeze(),\n",
    "            \"labels\": labels,\n",
    "            \"decoder_attention_mask\": target_encoding.attention_mask.squeeze(),\n",
    "        }\n",
    "\n",
    "# DataModule\n",
    "class NewsSummaryDataModule(pl.LightningDataModule):\n",
    "    def __init__(self, train_df, val_df, tokenizer, batch_size=2, text_max_tokens_len=512, summary_max_tokens_len=75):\n",
    "        super().__init__()\n",
    "        self.train_df = train_df\n",
    "        self.val_df = val_df\n",
    "        self.tokenizer = tokenizer\n",
    "        self.batch_size = batch_size\n",
    "        self.text_max_tokens_len = text_max_tokens_len\n",
    "        self.summary_max_tokens_len = summary_max_tokens_len\n",
    "\n",
    "    def setup(self, stage=None):\n",
    "        self.train_dataset = NewsSummaryDataset(self.train_df, self.tokenizer, self.text_max_tokens_len, self.summary_max_tokens_len)\n",
    "        self.val_dataset = NewsSummaryDataset(self.val_df, self.tokenizer, self.text_max_tokens_len, self.summary_max_tokens_len)\n",
    "\n",
    "    def train_dataloader(self):\n",
    "        return DataLoader(self.train_dataset, batch_size=self.batch_size, shuffle=True, num_workers=2)\n",
    "\n",
    "    def val_dataloader(self):\n",
    "        return DataLoader(self.val_dataset, batch_size=self.batch_size, shuffle=False, num_workers=2)\n",
    "\n",
    "# Lightning Model\n",
    "class NewsSummaryModel(pl.LightningModule):\n",
    "    def __init__(self):\n",
    "        super().__init__()\n",
    "        self.model = MT5ForConditionalGeneration.from_pretrained(MODEL_NAME)\n",
    "\n",
    "    def forward(self, input_ids, attention_mask, labels, decoder_attention_mask=None):\n",
    "        output = self.model(\n",
    "            input_ids=input_ids,\n",
    "            attention_mask=attention_mask,\n",
    "            labels=labels,\n",
    "            decoder_attention_mask=decoder_attention_mask,\n",
    "        )\n",
    "        return output.loss, output.logits\n",
    "\n",
    "    def training_step(self, batch, batch_idx):\n",
    "        loss, _ = self(\n",
    "            input_ids=batch[\"input_ids\"],\n",
    "            attention_mask=batch[\"attention_mask\"],\n",
    "            labels=batch[\"labels\"],\n",
    "            decoder_attention_mask=batch[\"decoder_attention_mask\"],\n",
    "        )\n",
    "        self.log(\"train_loss\", loss, prog_bar=True)\n",
    "        return loss\n",
    "\n",
    "    def validation_step(self, batch, batch_idx):\n",
    "        loss, _ = self(\n",
    "            input_ids=batch[\"input_ids\"],\n",
    "            attention_mask=batch[\"attention_mask\"],\n",
    "            labels=batch[\"labels\"],\n",
    "            decoder_attention_mask=batch[\"decoder_attention_mask\"],\n",
    "        )\n",
    "        self.log(\"val_loss\", loss, prog_bar=True)\n",
    "        return loss\n",
    "\n",
    "    def configure_optimizers(self):\n",
    "        return torch.optim.AdamW(self.parameters(), lr=2e-5)\n",
    "\n",
    "# Training\n",
    "BATCH_SIZE = 16\n",
    "EPOCHS = 8\n",
    "\n",
    "datamodule = NewsSummaryDataModule(df_train, df_valid, tokenizer, batch_size=BATCH_SIZE)\n",
    "model = NewsSummaryModel()\n",
    "\n",
    "trainer = pl.Trainer(\n",
    "    max_epochs=EPOCHS,\n",
    "    accelerator=\"auto\",\n",
    "    devices=1 if torch.cuda.is_available() else None,\n",
    "    precision=\"32\",\n",
    "    gradient_clip_val=1.0\n",
    ")\n",
    "\n",
    "trainer.fit(model, datamodule=datamodule)\n",
    "trainer.validate(model, datamodule=datamodule)\n",
    "\n",
    "# Inference\n",
    "model.freeze()\n",
    "\n",
    "def summarize_text(text, max_length=150):\n",
    "    input_text = \"summarize: \" + text\n",
    "    encoding = tokenizer(\n",
    "        input_text,\n",
    "        max_length=512,\n",
    "        padding=\"max_length\",\n",
    "        truncation=True,\n",
    "        return_tensors=\"pt\"\n",
    "    )\n",
    "    input_ids = encoding.input_ids.to(model.device)\n",
    "    attention_mask = encoding.attention_mask.to(model.device)\n",
    "\n",
    "    generated_ids = model.model.generate(\n",
    "        input_ids=input_ids,\n",
    "        attention_mask=attention_mask,\n",
    "        max_length=max_length,\n",
    "        num_beams=4,\n",
    "        early_stopping=True,\n",
    "        repetition_penalty=2.5,\n",
    "        length_penalty=1.0,\n",
    "        no_repeat_ngram_size=3\n",
    "    )\n",
    "    return tokenizer.decode(generated_ids[0], skip_special_tokens=True)\n",
    "\n",
    "# Try a sample\n",
    "sample_text = df_valid.iloc[0][\"Article\"]\n",
    "print(\"Original Text:\\n\", sample_text)\n",
    "print(\"\\nGenerated Summary:\\n\", summarize_text(sample_text))\n"
   ]
  },
  {
   "cell_type": "code",
   "execution_count": 2,
   "metadata": {
    "colab": {
     "base_uri": "https://localhost:8080/"
    },
    "id": "rju_6J0Q0nSJ",
    "outputId": "f76ce5fd-1bb1-4c15-82eb-ba4d3734230a"
   },
   "outputs": [
    {
     "name": "stdout",
     "output_type": "stream",
     "text": [
      "Original Text:\n",
      " ભરૂચ અને અંક્લેશ્વરને જોડતો નર્મદા મૈયા બ્રીજ બે શહેર વચ્ચેનું અંતર ઘટાડવા સાથે ટ્રાફિકની સમસ્યામાંથી મુક્ત અપાવનાર મહત્વનો બ્રીજ સાબિત થયો છે. જોકે, નર્મદા મૈયા બ્રીજના નિર્માણ બાદ આ બ્રીજ અકસ્માત ઝોન તેમજ સુસાઇડ પોઇન્ટ બની ગયો હોય તેમ લાગી રહ્યું છે. બ્રીજ પર પુરઝડપે જતાં વાહનો વચ્ચે અકસ્માતના બનાવો વધી ગયાં છે. બીજી તરફ નર્મદા મૈયા બ્રીજ પરથી છાસવારે લોકો આપઘાત કરવાના ઇરાદે નર્મદા નદીમાં ભુસકો મારતાં હોવાના બનાવો સામે આવી રહ્યાં છે. ત્યારે નર્મદા મૈયા બ્રીજ પરથી ભારદારી વાહનોની અવરજવર બંધ કરવા તેમજ પોલીસ દ્વારા બ્રીજ પર સતત પેટ્રોલિંગ કરવામાં આવે તેવી માંગ ઉઠી છે.અંકલેશ્વર અને ભરૂચ ને જોડાતા નર્મદા મૈયા બ્રિજ પર અચાનક રીક્ષા ઉભી થઇ જતાં કાર ધડાકાભેર ઘુસી જવા પામી હતી . 7 વ્યક્તિઓને ઇજા પહોંચી હતી. 108 ની મદદ થી ઇજાગ્રસ્તોને સારવાર અર્થે ખસેડાયો હતા. અકસ્માતના પગલે વાહન વ્યવહાર પર આંશિક અસર થઇ હતી.અંકલેશ્વરથી ભરૂચ તરફ જતી પેસેન્જર ભરેલી રીક્ષા નર્મદા મૈયા બ્રિજ પર એકાએક ઊભી કરી દેતા પાછળથી આવી રહેલ કાર રીક્ષા માં ધડાકાભેર ભટકાઈ ગયા હતા. કાર અને રીક્ષા વચ્ચે સર્જાયેલા અકસ્માતમાં રીક્ષા માં સવાર ડ્રાઈવર સહિત એક વૃધ્ધ તેમજ એક મહિલા અને એક નાની બાળકી ને પગ માં તેમજ માથાના ભાગે વાગેલ જ્યારે મોટરકાર માં સવાર 3 જેટલા લોકો નો આબાદ બચાવ મોટર કાર ચાલક ને માથાના ભાગે ઇજા થતા સારવાર અર્થે 108 એમ્બ્યુલન્સ સેવા બોલાવી તાત્કાલિક ભરૂચ સિવિલ હોસ્પિટલ ખાતે ચારેય ને ખસેડવામાં આવેલ છે. ઘટના અને પગલે વાહન વ્યવહાર ને આંશિક અસર થવા પામી હતી જેને ત્રાફિક જવાનો એ હળવો કર્યો હતો.\n",
      "\n",
      "Generated Summary:\n",
      " <pad> ભરૂચ તરફ જતી પેસેન્જર ભરેલી રીક્ષા નર્મદા મૈયા બ્રિજ પર એકાએક ઊભી થઇ જતાં કાર ધડાકાભેર ઘુસી જવા પામી7 વ્યક્તિઓને ઇજા પહોંચી હતી, 108 ની મદદથી ઇજાગ્રસ્તોને સારવાર અર્થે ખસેડાયો હતા. અકસ્માતના પગલે વાહન વ્યવહાર પર આંશિક અસર થઇઅકસ્માત ઝોન તેમજ સુસાઇડ પોઇન્ટ બની ગયો હોવાની માંગ ઉઠીટ્રાફિકની સમસ્યામાંથી મુક્ત અપાવનાર બ્રીજ\n"
     ]
    }
   ],
   "source": [
    "sample_text = df_valid.iloc[10][\"Article\"]\n",
    "print(\"Original Text:\\n\", sample_text)\n",
    "print(\"\\nGenerated Summary:\\n\", summarize_text(sample_text))"
   ]
  },
  {
   "cell_type": "code",
   "execution_count": 5,
   "metadata": {
    "colab": {
     "base_uri": "https://localhost:8080/"
    },
    "id": "9K89786f0tx0",
    "outputId": "bfaea9c4-4acc-4bb5-b10f-9368f289248b"
   },
   "outputs": [
    {
     "name": "stdout",
     "output_type": "stream",
     "text": [
      "Requirement already satisfied: evaluate in /usr/local/lib/python3.12/dist-packages (0.4.5)\n",
      "Requirement already satisfied: datasets>=2.0.0 in /usr/local/lib/python3.12/dist-packages (from evaluate) (4.0.0)\n",
      "Requirement already satisfied: numpy>=1.17 in /usr/local/lib/python3.12/dist-packages (from evaluate) (2.0.2)\n",
      "Requirement already satisfied: dill in /usr/local/lib/python3.12/dist-packages (from evaluate) (0.3.8)\n",
      "Requirement already satisfied: pandas in /usr/local/lib/python3.12/dist-packages (from evaluate) (2.2.2)\n",
      "Requirement already satisfied: requests>=2.19.0 in /usr/local/lib/python3.12/dist-packages (from evaluate) (2.32.4)\n",
      "Requirement already satisfied: tqdm>=4.62.1 in /usr/local/lib/python3.12/dist-packages (from evaluate) (4.67.1)\n",
      "Requirement already satisfied: xxhash in /usr/local/lib/python3.12/dist-packages (from evaluate) (3.5.0)\n",
      "Requirement already satisfied: multiprocess in /usr/local/lib/python3.12/dist-packages (from evaluate) (0.70.16)\n",
      "Requirement already satisfied: fsspec>=2021.05.0 in /usr/local/lib/python3.12/dist-packages (from fsspec[http]>=2021.05.0->evaluate) (2025.3.0)\n",
      "Requirement already satisfied: huggingface-hub>=0.7.0 in /usr/local/lib/python3.12/dist-packages (from evaluate) (0.34.4)\n",
      "Requirement already satisfied: packaging in /usr/local/lib/python3.12/dist-packages (from evaluate) (25.0)\n",
      "Requirement already satisfied: filelock in /usr/local/lib/python3.12/dist-packages (from datasets>=2.0.0->evaluate) (3.19.1)\n",
      "Requirement already satisfied: pyarrow>=15.0.0 in /usr/local/lib/python3.12/dist-packages (from datasets>=2.0.0->evaluate) (18.1.0)\n",
      "Requirement already satisfied: pyyaml>=5.1 in /usr/local/lib/python3.12/dist-packages (from datasets>=2.0.0->evaluate) (6.0.2)\n",
      "Requirement already satisfied: aiohttp!=4.0.0a0,!=4.0.0a1 in /usr/local/lib/python3.12/dist-packages (from fsspec[http]>=2021.05.0->evaluate) (3.12.15)\n",
      "Requirement already satisfied: typing-extensions>=3.7.4.3 in /usr/local/lib/python3.12/dist-packages (from huggingface-hub>=0.7.0->evaluate) (4.15.0)\n",
      "Requirement already satisfied: hf-xet<2.0.0,>=1.1.3 in /usr/local/lib/python3.12/dist-packages (from huggingface-hub>=0.7.0->evaluate) (1.1.9)\n",
      "Requirement already satisfied: charset_normalizer<4,>=2 in /usr/local/lib/python3.12/dist-packages (from requests>=2.19.0->evaluate) (3.4.3)\n",
      "Requirement already satisfied: idna<4,>=2.5 in /usr/local/lib/python3.12/dist-packages (from requests>=2.19.0->evaluate) (3.10)\n",
      "Requirement already satisfied: urllib3<3,>=1.21.1 in /usr/local/lib/python3.12/dist-packages (from requests>=2.19.0->evaluate) (2.5.0)\n",
      "Requirement already satisfied: certifi>=2017.4.17 in /usr/local/lib/python3.12/dist-packages (from requests>=2.19.0->evaluate) (2025.8.3)\n",
      "Requirement already satisfied: python-dateutil>=2.8.2 in /usr/local/lib/python3.12/dist-packages (from pandas->evaluate) (2.9.0.post0)\n",
      "Requirement already satisfied: pytz>=2020.1 in /usr/local/lib/python3.12/dist-packages (from pandas->evaluate) (2025.2)\n",
      "Requirement already satisfied: tzdata>=2022.7 in /usr/local/lib/python3.12/dist-packages (from pandas->evaluate) (2025.2)\n",
      "Requirement already satisfied: aiohappyeyeballs>=2.5.0 in /usr/local/lib/python3.12/dist-packages (from aiohttp!=4.0.0a0,!=4.0.0a1->fsspec[http]>=2021.05.0->evaluate) (2.6.1)\n",
      "Requirement already satisfied: aiosignal>=1.4.0 in /usr/local/lib/python3.12/dist-packages (from aiohttp!=4.0.0a0,!=4.0.0a1->fsspec[http]>=2021.05.0->evaluate) (1.4.0)\n",
      "Requirement already satisfied: attrs>=17.3.0 in /usr/local/lib/python3.12/dist-packages (from aiohttp!=4.0.0a0,!=4.0.0a1->fsspec[http]>=2021.05.0->evaluate) (25.3.0)\n",
      "Requirement already satisfied: frozenlist>=1.1.1 in /usr/local/lib/python3.12/dist-packages (from aiohttp!=4.0.0a0,!=4.0.0a1->fsspec[http]>=2021.05.0->evaluate) (1.7.0)\n",
      "Requirement already satisfied: multidict<7.0,>=4.5 in /usr/local/lib/python3.12/dist-packages (from aiohttp!=4.0.0a0,!=4.0.0a1->fsspec[http]>=2021.05.0->evaluate) (6.6.4)\n",
      "Requirement already satisfied: propcache>=0.2.0 in /usr/local/lib/python3.12/dist-packages (from aiohttp!=4.0.0a0,!=4.0.0a1->fsspec[http]>=2021.05.0->evaluate) (0.3.2)\n",
      "Requirement already satisfied: yarl<2.0,>=1.17.0 in /usr/local/lib/python3.12/dist-packages (from aiohttp!=4.0.0a0,!=4.0.0a1->fsspec[http]>=2021.05.0->evaluate) (1.20.1)\n",
      "Requirement already satisfied: six>=1.5 in /usr/local/lib/python3.12/dist-packages (from python-dateutil>=2.8.2->pandas->evaluate) (1.17.0)\n"
     ]
    }
   ],
   "source": [
    "!pip install evaluate\n"
   ]
  },
  {
   "cell_type": "code",
   "execution_count": 17,
   "metadata": {
    "colab": {
     "base_uri": "https://localhost:8080/",
     "height": 646
    },
    "id": "bAHDmy2k0pRm",
    "outputId": "509bc3a5-57a3-4c47-c08d-04ab885383ac"
   },
   "outputs": [
    {
     "name": "stderr",
     "output_type": "stream",
     "text": [
      "/usr/local/lib/python3.12/dist-packages/gradio/interface.py:414: UserWarning: The `allow_flagging` parameter in `Interface` is deprecated. Use `flagging_mode` instead.\n",
      "  warnings.warn(\n"
     ]
    },
    {
     "name": "stdout",
     "output_type": "stream",
     "text": [
      "Colab notebook detected. To show errors in colab notebook, set debug=True in launch()\n",
      "* Running on public URL: https://d8788c01f537151c67.gradio.live\n",
      "\n",
      "This share link expires in 1 week. For free permanent hosting and GPU upgrades, run `gradio deploy` from the terminal in the working directory to deploy to Hugging Face Spaces (https://huggingface.co/spaces)\n"
     ]
    },
    {
     "data": {
      "text/html": [
       "<div><iframe src=\"https://d8788c01f537151c67.gradio.live\" width=\"100%\" height=\"500\" allow=\"autoplay; camera; microphone; clipboard-read; clipboard-write;\" frameborder=\"0\" allowfullscreen></iframe></div>"
      ],
      "text/plain": [
       "<IPython.core.display.HTML object>"
      ]
     },
     "metadata": {},
     "output_type": "display_data"
    },
    {
     "data": {
      "text/plain": []
     },
     "execution_count": 17,
     "metadata": {},
     "output_type": "execute_result"
    }
   ],
   "source": [
    "import gradio as gr\n",
    "\n",
    "# --- Your summarization function (keep your model logic here) ---\n",
    "def summarize_interface(article):\n",
    "    summary = summarize_text(article)   # ✅ your model function\n",
    "    return summary\n",
    "\n",
    "\n",
    "# --- Custom colorful theme (only valid tokens) ---\n",
    "theme = gr.themes.Base(\n",
    "    primary_hue=\"purple\",\n",
    "    secondary_hue=\"yellow\",\n",
    "    neutral_hue=\"cyan\"\n",
    ").set(\n",
    "    background_fill_primary=\"linear-gradient(to right, #ffe57f, #ffd180)\",  # golden-orange gradient\n",
    "    background_fill_secondary=\"linear-gradient(to right, #81d4fa, #b388ff)\",  # blue-purple gradient\n",
    "    input_background_fill=\"#ffffff\",\n",
    "    button_primary_background_fill=\"#ff6f00\",  # vibrant orange\n",
    "    button_primary_text_color=\"#ffffff\",\n",
    "    body_text_color=\"#263238\"  # dark slate\n",
    ")\n",
    "\n",
    "\n",
    "# --- Launch Gradio Interface ---\n",
    "gr.Interface(\n",
    "    fn=summarize_interface,\n",
    "    inputs=gr.Textbox(\n",
    "        lines=12,\n",
    "        label=\"📰 Gujarati Article\",\n",
    "        placeholder=\"લેખ અહીં પેસ્ટ કરો... (Paste article here)\",\n",
    "        elem_id=\"input-box\"\n",
    "    ),\n",
    "    outputs=gr.Textbox(\n",
    "        lines=6,\n",
    "        label=\"🧠 Generated Summary\",\n",
    "        elem_id=\"output-box\"\n",
    "    ),\n",
    "    title=\"🎉 Gujarati News Summarizer\",\n",
    "    description=\"\"\"\n",
    "    <div style='text-align: center; font-size: 16px; color: #37474f; font-family: Comic Sans MS;'>\n",
    "        <p>🔍 <b>Paste your Gujarati news article</b> below and get a short, clear summary using a powerful mT5 model.</p>\n",
    "        <p>✨ Built with <span style=\"color:#7e57c2;\"><b>HuggingFace Transformers</b></span> and <span style=\"#ff6f00;\"><b>PyTorch Lightning</b></span></p>\n",
    "    </div>\n",
    "    \"\"\",\n",
    "    theme=theme,\n",
    "    allow_flagging=\"never\",\n",
    "    live=True,\n",
    "    css=\"\"\"\n",
    "        /* Global font override */\n",
    "        * {\n",
    "            font-family: \"Comic Sans MS\", cursive, sans-serif !important;\n",
    "        }\n",
    "        #input-box textarea {\n",
    "            border: 2px solid #7e57c2;\n",
    "            box-shadow: 0 0 10px rgba(126, 87, 194, 0.4);\n",
    "            background: #fff8e1;\n",
    "        }\n",
    "        #output-box textarea {\n",
    "            border: 2px solid #ff6f00;\n",
    "            background: #e1f5fe;\n",
    "            color: #263238;\n",
    "            font-weight: bold;\n",
    "        }\n",
    "        .gr-button {\n",
    "            font-size: 16px;\n",
    "            font-weight: bold;\n",
    "            border-radius: 10px;\n",
    "            transition: 0.3s ease;\n",
    "        }\n",
    "        .gr-button:hover {\n",
    "            background: #ffd54f !important;\n",
    "            color: #000 !important;\n",
    "        }\n",
    "    \"\"\"\n",
    ").launch(share=True)\n"
   ]
  },
  {
   "cell_type": "code",
   "execution_count": 10,
   "metadata": {
    "colab": {
     "base_uri": "https://localhost:8080/"
    },
    "id": "LZM9OR57H5MU",
    "outputId": "74300f03-70d9-4c93-f545-c221c180e8dd"
   },
   "outputs": [
    {
     "name": "stdout",
     "output_type": "stream",
     "text": [
      "Requirement already satisfied: bert_score in /usr/local/lib/python3.12/dist-packages (0.3.13)\n",
      "Requirement already satisfied: torch>=1.0.0 in /usr/local/lib/python3.12/dist-packages (from bert_score) (2.8.0+cu126)\n",
      "Requirement already satisfied: pandas>=1.0.1 in /usr/local/lib/python3.12/dist-packages (from bert_score) (2.2.2)\n",
      "Requirement already satisfied: transformers>=3.0.0 in /usr/local/lib/python3.12/dist-packages (from bert_score) (4.56.0)\n",
      "Requirement already satisfied: numpy in /usr/local/lib/python3.12/dist-packages (from bert_score) (2.0.2)\n",
      "Requirement already satisfied: requests in /usr/local/lib/python3.12/dist-packages (from bert_score) (2.32.4)\n",
      "Requirement already satisfied: tqdm>=4.31.1 in /usr/local/lib/python3.12/dist-packages (from bert_score) (4.67.1)\n",
      "Requirement already satisfied: matplotlib in /usr/local/lib/python3.12/dist-packages (from bert_score) (3.10.0)\n",
      "Requirement already satisfied: packaging>=20.9 in /usr/local/lib/python3.12/dist-packages (from bert_score) (25.0)\n",
      "Requirement already satisfied: python-dateutil>=2.8.2 in /usr/local/lib/python3.12/dist-packages (from pandas>=1.0.1->bert_score) (2.9.0.post0)\n",
      "Requirement already satisfied: pytz>=2020.1 in /usr/local/lib/python3.12/dist-packages (from pandas>=1.0.1->bert_score) (2025.2)\n",
      "Requirement already satisfied: tzdata>=2022.7 in /usr/local/lib/python3.12/dist-packages (from pandas>=1.0.1->bert_score) (2025.2)\n",
      "Requirement already satisfied: filelock in /usr/local/lib/python3.12/dist-packages (from torch>=1.0.0->bert_score) (3.19.1)\n",
      "Requirement already satisfied: typing-extensions>=4.10.0 in /usr/local/lib/python3.12/dist-packages (from torch>=1.0.0->bert_score) (4.15.0)\n",
      "Requirement already satisfied: setuptools in /usr/local/lib/python3.12/dist-packages (from torch>=1.0.0->bert_score) (75.2.0)\n",
      "Requirement already satisfied: sympy>=1.13.3 in /usr/local/lib/python3.12/dist-packages (from torch>=1.0.0->bert_score) (1.13.3)\n",
      "Requirement already satisfied: networkx in /usr/local/lib/python3.12/dist-packages (from torch>=1.0.0->bert_score) (3.5)\n",
      "Requirement already satisfied: jinja2 in /usr/local/lib/python3.12/dist-packages (from torch>=1.0.0->bert_score) (3.1.6)\n",
      "Requirement already satisfied: fsspec in /usr/local/lib/python3.12/dist-packages (from torch>=1.0.0->bert_score) (2025.3.0)\n",
      "Requirement already satisfied: nvidia-cuda-nvrtc-cu12==12.6.77 in /usr/local/lib/python3.12/dist-packages (from torch>=1.0.0->bert_score) (12.6.77)\n",
      "Requirement already satisfied: nvidia-cuda-runtime-cu12==12.6.77 in /usr/local/lib/python3.12/dist-packages (from torch>=1.0.0->bert_score) (12.6.77)\n",
      "Requirement already satisfied: nvidia-cuda-cupti-cu12==12.6.80 in /usr/local/lib/python3.12/dist-packages (from torch>=1.0.0->bert_score) (12.6.80)\n",
      "Requirement already satisfied: nvidia-cudnn-cu12==9.10.2.21 in /usr/local/lib/python3.12/dist-packages (from torch>=1.0.0->bert_score) (9.10.2.21)\n",
      "Requirement already satisfied: nvidia-cublas-cu12==12.6.4.1 in /usr/local/lib/python3.12/dist-packages (from torch>=1.0.0->bert_score) (12.6.4.1)\n",
      "Requirement already satisfied: nvidia-cufft-cu12==11.3.0.4 in /usr/local/lib/python3.12/dist-packages (from torch>=1.0.0->bert_score) (11.3.0.4)\n",
      "Requirement already satisfied: nvidia-curand-cu12==10.3.7.77 in /usr/local/lib/python3.12/dist-packages (from torch>=1.0.0->bert_score) (10.3.7.77)\n",
      "Requirement already satisfied: nvidia-cusolver-cu12==11.7.1.2 in /usr/local/lib/python3.12/dist-packages (from torch>=1.0.0->bert_score) (11.7.1.2)\n",
      "Requirement already satisfied: nvidia-cusparse-cu12==12.5.4.2 in /usr/local/lib/python3.12/dist-packages (from torch>=1.0.0->bert_score) (12.5.4.2)\n",
      "Requirement already satisfied: nvidia-cusparselt-cu12==0.7.1 in /usr/local/lib/python3.12/dist-packages (from torch>=1.0.0->bert_score) (0.7.1)\n",
      "Requirement already satisfied: nvidia-nccl-cu12==2.27.3 in /usr/local/lib/python3.12/dist-packages (from torch>=1.0.0->bert_score) (2.27.3)\n",
      "Requirement already satisfied: nvidia-nvtx-cu12==12.6.77 in /usr/local/lib/python3.12/dist-packages (from torch>=1.0.0->bert_score) (12.6.77)\n",
      "Requirement already satisfied: nvidia-nvjitlink-cu12==12.6.85 in /usr/local/lib/python3.12/dist-packages (from torch>=1.0.0->bert_score) (12.6.85)\n",
      "Requirement already satisfied: nvidia-cufile-cu12==1.11.1.6 in /usr/local/lib/python3.12/dist-packages (from torch>=1.0.0->bert_score) (1.11.1.6)\n",
      "Requirement already satisfied: triton==3.4.0 in /usr/local/lib/python3.12/dist-packages (from torch>=1.0.0->bert_score) (3.4.0)\n",
      "Requirement already satisfied: huggingface-hub<1.0,>=0.34.0 in /usr/local/lib/python3.12/dist-packages (from transformers>=3.0.0->bert_score) (0.34.4)\n",
      "Requirement already satisfied: pyyaml>=5.1 in /usr/local/lib/python3.12/dist-packages (from transformers>=3.0.0->bert_score) (6.0.2)\n",
      "Requirement already satisfied: regex!=2019.12.17 in /usr/local/lib/python3.12/dist-packages (from transformers>=3.0.0->bert_score) (2024.11.6)\n",
      "Requirement already satisfied: tokenizers<=0.23.0,>=0.22.0 in /usr/local/lib/python3.12/dist-packages (from transformers>=3.0.0->bert_score) (0.22.0)\n",
      "Requirement already satisfied: safetensors>=0.4.3 in /usr/local/lib/python3.12/dist-packages (from transformers>=3.0.0->bert_score) (0.6.2)\n",
      "Requirement already satisfied: contourpy>=1.0.1 in /usr/local/lib/python3.12/dist-packages (from matplotlib->bert_score) (1.3.3)\n",
      "Requirement already satisfied: cycler>=0.10 in /usr/local/lib/python3.12/dist-packages (from matplotlib->bert_score) (0.12.1)\n",
      "Requirement already satisfied: fonttools>=4.22.0 in /usr/local/lib/python3.12/dist-packages (from matplotlib->bert_score) (4.59.2)\n",
      "Requirement already satisfied: kiwisolver>=1.3.1 in /usr/local/lib/python3.12/dist-packages (from matplotlib->bert_score) (1.4.9)\n",
      "Requirement already satisfied: pillow>=8 in /usr/local/lib/python3.12/dist-packages (from matplotlib->bert_score) (11.3.0)\n",
      "Requirement already satisfied: pyparsing>=2.3.1 in /usr/local/lib/python3.12/dist-packages (from matplotlib->bert_score) (3.2.3)\n",
      "Requirement already satisfied: charset_normalizer<4,>=2 in /usr/local/lib/python3.12/dist-packages (from requests->bert_score) (3.4.3)\n",
      "Requirement already satisfied: idna<4,>=2.5 in /usr/local/lib/python3.12/dist-packages (from requests->bert_score) (3.10)\n",
      "Requirement already satisfied: urllib3<3,>=1.21.1 in /usr/local/lib/python3.12/dist-packages (from requests->bert_score) (2.5.0)\n",
      "Requirement already satisfied: certifi>=2017.4.17 in /usr/local/lib/python3.12/dist-packages (from requests->bert_score) (2025.8.3)\n",
      "Requirement already satisfied: hf-xet<2.0.0,>=1.1.3 in /usr/local/lib/python3.12/dist-packages (from huggingface-hub<1.0,>=0.34.0->transformers>=3.0.0->bert_score) (1.1.9)\n",
      "Requirement already satisfied: six>=1.5 in /usr/local/lib/python3.12/dist-packages (from python-dateutil>=2.8.2->pandas>=1.0.1->bert_score) (1.17.0)\n",
      "Requirement already satisfied: mpmath<1.4,>=1.1.0 in /usr/local/lib/python3.12/dist-packages (from sympy>=1.13.3->torch>=1.0.0->bert_score) (1.3.0)\n",
      "Requirement already satisfied: MarkupSafe>=2.0 in /usr/local/lib/python3.12/dist-packages (from jinja2->torch>=1.0.0->bert_score) (3.0.2)\n"
     ]
    }
   ],
   "source": [
    "!pip install bert_score"
   ]
  },
  {
   "cell_type": "code",
   "execution_count": 13,
   "metadata": {
    "colab": {
     "base_uri": "https://localhost:8080/",
     "height": 193
    },
    "id": "neGmH33q_usE",
    "outputId": "c290ba04-0457-47c3-b29f-a90b4c6f1e66"
   },
   "outputs": [
    {
     "name": "stdout",
     "output_type": "stream",
     "text": [
      "Generated Summary:\n",
      " નર્મદા મૈયા બ્રીજના નિર્માણ બાદ આ બ્રીજ અકસ્માત ઝોન તેમજ સુસાઇડ પોઇન્ટ બની ગયો હોય તેમ લાગીઅંકલેશ્વરથી ભરૂચ તરફ જતી પેસેન્જર ભરેલી રીક્ષા એકાએક ઊભી કરી દેતા કાર ધડાકાભેર ઘુસી જવા પામી હતી7 વ્યક્તિઓને ઇજા પહોંચી હતી, 108 ની મદદથી ઇજાગ્રસ્તોને સારવાર અર્થે ખસેડાયો હતા. અકસ્માતના પગલે વાહન વ્યવહાર પર આંશિક અસર થઇ હ\n",
      "Reference Summary:\n",
      " ભરૂચ અને અંક્લેશ્વરને જોડતો નર્મદા મૈયા બ્રીજ બે શહેર વચ્ચેનું અંતર ઘટાડવા સાથે ટ્રાફિકની સમસ્યામાંથી મુક્ત અપાવનાર મહત્વનો બ્રીજ સાબિત થયો છે. જોકે, નર્મદા મૈયા બ્રીજના નિર્માણ બાદ આ બ્રીજ અકસ્માત ઝોન તેમજ સુસાઇડ પોઇન્ટ બની ગયો હોય તેમ લાગી રહ્યું છે. બ્રીજ પર પુરઝડપે જતાં વાહનો વચ્ચે અકસ્માતના બનાવો વધી ગયાં છે. બીજી તરફ નર્મદા મૈયા બ્રીજ પરથી છાસવારે લોકો આપઘાત કરવાના ઇરાદે નર્મદા નદીમાં ભુસકો મારતાં હોવાના બનાવો સામે આવી રહ્યાં છે. ત્યારે નર્મદા મૈયા બ્રીજ પરથી ભારદારી વાહનોની અવરજવર બંધ કરવા તેમજ પોલીસ દ્વારા બ્રીજ પર સતત પેટ્રોલિંગ કરવામાં આવે તેવી માંગ ઉઠી છે.અંકલેશ્વર અને ભરૂચ ને જોડાતા નર્મદા મૈયા બ્રિજ પર અચાનક રીક્ષા ઉભી થઇ જતાં કાર ધડાકાભેર ઘુસી જવા પામી હતી . 7 વ્યક્તિઓને ઇજા પહોંચી હતી. 108 ની મદદ થી ઇજાગ્રસ્તોને સારવાર અર્થે ખસેડાયો હતા. અકસ્માતના પગલે વાહન વ્યવહાર પર આંશિક અસર થઇ હતી.અંકલેશ્વરથી ભરૂચ તરફ જતી પેસેન્જર ભરેલી રીક્ષા નર્મદા મૈયા બ્રિજ પર એકાએક ઊભી કરી દેતા પાછળથી આવી રહેલ કાર રીક્ષા માં ધડાકાભેર ભટકાઈ ગયા હતા. કાર અને રીક્ષા વચ્ચે સર્જાયેલા અકસ્માતમાં રીક્ષા માં સવાર ડ્રાઈવર સહિત એક વૃધ્ધ તેમજ એક મહિલા અને એક નાની બાળકી ને પગ માં તેમજ માથાના ભાગે વાગેલ જ્યારે મોટરકાર માં સવાર 3 જેટલા લોકો નો આબાદ બચાવ મોટર કાર ચાલક ને માથાના ભાગે ઇજા થતા સારવાર અર્થે 108 એમ્બ્યુલન્સ સેવા બોલાવી તાત્કાલિક ભરૂચ સિવિલ હોસ્પિટલ ખાતે ચારેય ને ખસેડવામાં આવેલ છે. ઘટના અને પગલે વાહન વ્યવહાર ને આંશિક અસર થવા પામી હતી જેને ત્રાફિક જવાનો એ હળવો કર્યો હતો.\n",
      "\n",
      "BERTScore:\n",
      "Precision: 0.8957\n",
      "Recall:    0.6990\n",
      "F1 Score:  0.7852\n"
     ]
    }
   ],
   "source": [
    "import pandas as pd\n",
    "from bert_score import score\n",
    "\n",
    "# Index to test\n",
    "index = 10\n",
    "\n",
    "# Get article and reference summary\n",
    "sample_text = df_valid.iloc[index][\"Article\"]\n",
    "\n",
    "reference_summary = \"ભરૂચ અને અંક્લેશ્વરને જોડતો નર્મદા મૈયા બ્રીજ બે શહેર વચ્ચેનું અંતર ઘટાડવા સાથે ટ્રાફિકની સમસ્યામાંથી મુક્ત અપાવનાર મહત્વનો બ્રીજ સાબિત થયો છે. જોકે, નર્મદા મૈયા બ્રીજના નિર્માણ બાદ આ બ્રીજ અકસ્માત ઝોન તેમજ સુસાઇડ પોઇન્ટ બની ગયો હોય તેમ લાગી રહ્યું છે. બ્રીજ પર પુરઝડપે જતાં વાહનો વચ્ચે અકસ્માતના બનાવો વધી ગયાં છે. બીજી તરફ નર્મદા મૈયા બ્રીજ પરથી છાસવારે લોકો આપઘાત કરવાના ઇરાદે નર્મદા નદીમાં ભુસકો મારતાં હોવાના બનાવો સામે આવી રહ્યાં છે. ત્યારે નર્મદા મૈયા બ્રીજ પરથી ભારદારી વાહનોની અવરજવર બંધ કરવા તેમજ પોલીસ દ્વારા બ્રીજ પર સતત પેટ્રોલિંગ કરવામાં આવે તેવી માંગ ઉઠી છે.અંકલેશ્વર અને ભરૂચ ને જોડાતા નર્મદા મૈયા બ્રિજ પર અચાનક રીક્ષા ઉભી થઇ જતાં કાર ધડાકાભેર ઘુસી જવા પામી હતી . 7 વ્યક્તિઓને ઇજા પહોંચી હતી. 108 ની મદદ થી ઇજાગ્રસ્તોને સારવાર અર્થે ખસેડાયો હતા. અકસ્માતના પગલે વાહન વ્યવહાર પર આંશિક અસર થઇ હતી.અંકલેશ્વરથી ભરૂચ તરફ જતી પેસેન્જર ભરેલી રીક્ષા નર્મદા મૈયા બ્રિજ પર એકાએક ઊભી કરી દેતા પાછળથી આવી રહેલ કાર રીક્ષા માં ધડાકાભેર ભટકાઈ ગયા હતા. કાર અને રીક્ષા વચ્ચે સર્જાયેલા અકસ્માતમાં રીક્ષા માં સવાર ડ્રાઈવર સહિત એક વૃધ્ધ તેમજ એક મહિલા અને એક નાની બાળકી ને પગ માં તેમજ માથાના ભાગે વાગેલ જ્યારે મોટરકાર માં સવાર 3 જેટલા લોકો નો આબાદ બચાવ મોટર કાર ચાલક ને માથાના ભાગે ઇજા થતા સારવાર અર્થે 108 એમ્બ્યુલન્સ સેવા બોલાવી તાત્કાલિક ભરૂચ સિવિલ હોસ્પિટલ ખાતે ચારેય ને ખસેડવામાં આવેલ છે. ઘટના અને પગલે વાહન વ્યવહાર ને આંશિક અસર થવા પામી હતી જેને ત્રાફિક જવાનો એ હળવો કર્યો હતો.\"\n",
    "\n",
    "generated_summary = \"નર્મદા મૈયા બ્રીજના નિર્માણ બાદ આ બ્રીજ અકસ્માત ઝોન તેમજ સુસાઇડ પોઇન્ટ બની ગયો હોય તેમ લાગીઅંકલેશ્વરથી ભરૂચ તરફ જતી પેસેન્જર ભરેલી રીક્ષા એકાએક ઊભી કરી દેતા કાર ધડાકાભેર ઘુસી જવા પામી હતી7 વ્યક્તિઓને ઇજા પહોંચી હતી, 108 ની મદદથી ઇજાગ્રસ્તોને સારવાર અર્થે ખસેડાયો હતા. અકસ્માતના પગલે વાહન વ્યવહાર પર આંશિક અસર થઇ હ\"\n",
    "\n",
    "# Print them\n",
    "print(\"Generated Summary:\\n\", generated_summary)\n",
    "print(\"Reference Summary:\\n\", reference_summary)\n",
    "\n",
    "# ⚡ BERTScore calculation\n",
    "# Using multilingual model because Gujarati is low-resource\n",
    "P, R, F1 = score([generated_summary], [reference_summary], lang=\"gu\", model_type=\"microsoft/mdeberta-v3-base\")\n",
    "\n",
    "print(\"\\nBERTScore:\")\n",
    "print(f\"Precision: {P.mean().item():.4f}\")\n",
    "print(f\"Recall:    {R.mean().item():.4f}\")\n",
    "print(f\"F1 Score:  {F1.mean().item():.4f}\")\n"
   ]
  }
 ],
 "metadata": {
  "accelerator": "GPU",
  "colab": {
   "gpuType": "T4",
   "provenance": []
  },
  "kernelspec": {
   "display_name": "Python 3",
   "name": "python3"
  },
  "language_info": {
   "name": "python"
  }
 },
 "nbformat": 4,
 "nbformat_minor": 0
}
